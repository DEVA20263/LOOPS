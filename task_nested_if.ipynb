{
 "cells": [
  {
   "cell_type": "code",
   "execution_count": 1,
   "id": "9e5a1b0e",
   "metadata": {},
   "outputs": [
    {
     "name": "stdout",
     "output_type": "stream",
     "text": [
      "odd\n"
     ]
    }
   ],
   "source": [
    "#Write a program to check if a number is even or odd using a ternary operator.\n",
    "num=int(input(\"enter a number\"))\n",
    "print(\"even\") if num%2==0 else print(\"odd\")"
   ]
  },
  {
   "cell_type": "code",
   "execution_count": 2,
   "id": "b050a464",
   "metadata": {},
   "outputs": [
    {
     "name": "stdout",
     "output_type": "stream",
     "text": [
      "positive\n"
     ]
    }
   ],
   "source": [
    "#Take a number as input and print \"Positive\" if it is > 0, else print \"Negative or Zero\".\n",
    "num=int(input(\"enter a number\"))\n",
    "print(\"positive\") if num>0 else print(\"negative or zero\")"
   ]
  },
  {
   "cell_type": "code",
   "execution_count": 3,
   "id": "171f5d4f",
   "metadata": {},
   "outputs": [
    {
     "name": "stdout",
     "output_type": "stream",
     "text": [
      "second value is big\n"
     ]
    }
   ],
   "source": [
    "#Input two numbers and print the greater one using a ternary expression.\n",
    "n=int(input(\"enter a number\"))\n",
    "n1=int(input(\"enter a number\"))\n",
    "print(\"first is big\") if n>n1 else print(\"second value is big\")"
   ]
  },
  {
   "cell_type": "code",
   "execution_count": 4,
   "id": "7a2bd685",
   "metadata": {},
   "outputs": [
    {
     "name": "stdout",
     "output_type": "stream",
     "text": [
      "adult\n"
     ]
    }
   ],
   "source": [
    "#Check if the user is an adult (age ≥ 18), else print \"Minor\".\n",
    "age=int(input(\"enter a age\"))\n",
    "print(\"minor\") if age>=18 else print(\"adult\")"
   ]
  },
  {
   "cell_type": "code",
   "execution_count": 5,
   "id": "98e7305e",
   "metadata": {},
   "outputs": [
    {
     "name": "stdout",
     "output_type": "stream",
     "text": [
      "fail\n"
     ]
    }
   ],
   "source": [
    "#Print \"Pass\" if marks are ≥ 35, else \"Fail\"\n",
    "marks=int(input(\"enter a marks\"))\n",
    "print(\"pass\") if marks>=35 else print(\"fail\")"
   ]
  },
  {
   "cell_type": "code",
   "execution_count": 6,
   "id": "d7e21e50",
   "metadata": {},
   "outputs": [
    {
     "name": "stdout",
     "output_type": "stream",
     "text": [
      "Number is not divisble by 3\n"
     ]
    }
   ],
   "source": [
    "num=int(input(\"Enter a number\"))\n",
    "if num>=0 :\n",
    "    if num%3==0:\n",
    "        print(\"The number is division by 3\")\n",
    "    else:\n",
    "        print(\"Number is not divisble by 3\")\n",
    "else:\n",
    "        print(\"Enter the corret number \")\n"
   ]
  },
  {
   "cell_type": "code",
   "execution_count": 7,
   "id": "f359404f",
   "metadata": {},
   "outputs": [
    {
     "name": "stdout",
     "output_type": "stream",
     "text": [
      "No\n"
     ]
    }
   ],
   "source": [
    "# If a number is divisible by 2 and 5, print \"Yes\" else \"No\" — write as one ternary line.\n",
    "\n",
    "num= int(input(\"enter a number\"))\n",
    "print(\"Yes\") if num%2==0 and num%5==0 else print(\"No\")"
   ]
  },
  {
   "cell_type": "code",
   "execution_count": 8,
   "id": "854545aa",
   "metadata": {},
   "outputs": [
    {
     "name": "stdout",
     "output_type": "stream",
     "text": [
      "1. Raining or not \n",
      "its not raining,Enjoy your day\n"
     ]
    }
   ],
   "source": [
    "# Given is_raining = True, print \"Take Umbrella\" if True, else \"Enjoy the day\".\n",
    "\n",
    "print(\"1. Raining or not \")\n",
    "n=str(input(\"enter raining\"))\n",
    "n=int(input(\"Enter a number\"))\n",
    "if n==1:\n",
    "    print(\"its raining, take umbrella\")\n",
    "elif n==2:\n",
    "    print(\"its not raining,Enjoy your day\")\n",
    "else:\n",
    "    print(\"Entered the wrong input\")"
   ]
  },
  {
   "cell_type": "code",
   "execution_count": 20,
   "id": "6c29e567",
   "metadata": {},
   "outputs": [
    {
     "name": "stdout",
     "output_type": "stream",
     "text": [
      "Non-zero\n"
     ]
    }
   ],
   "source": [
    "# Given the value of x, print \"Zero\" if it is 0, else \"Non-zero\".\n",
    "\n",
    "value = int(input(\"Enter a number\"))\n",
    "if value>=0:\n",
    "    if value>0:\n",
    "        print(\"Non-zero\")\n",
    "    else:\n",
    "        print(\"zero\")\n",
    "else:\n",
    "    print(\"Bye\")\n",
    "    \n"
   ]
  },
  {
   "cell_type": "code",
   "execution_count": 12,
   "id": "ab1c7a5b",
   "metadata": {},
   "outputs": [
    {
     "name": "stdout",
     "output_type": "stream",
     "text": [
      "please enter a character\n"
     ]
    }
   ],
   "source": [
    "#  Given a character input, print \"Vowel\" if it's 'a', 'e', 'i', 'o', or 'u', else \"Consonant\" (hint: use in).\n",
    "\n",
    "char = input(\"enter a character\")\n",
    "if len(char) == 1 :\n",
    "    if char.isalpha():\n",
    "       if char in 'aeiou' :\n",
    "        print(\"its contains vowels\")\n",
    "       else :\n",
    "        print(\"consonants\")\n",
    "    else:\n",
    "       print(\"not a alphabet\")\n",
    "else:\n",
    "    print(\"please enter a character\")"
   ]
  },
  {
   "cell_type": "code",
   "execution_count": null,
   "id": "18b56eb6",
   "metadata": {},
   "outputs": [
    {
     "name": "stdout",
     "output_type": "stream",
     "text": [
      "Safe\n"
     ]
    }
   ],
   "source": [
    "# Given speed, print \"Over Speed\" if > 80, else \"Safe\".\n",
    "\n",
    "speed = int(input(\"Enter the speed: \"))\n",
    "if speed >0:\n",
    "    if speed >=80:\n",
    "        print(\"Over Speed\")\n",
    "    else:\n",
    "        print(\"Safe\")\n",
    "else:\n",
    "    print(\"Normal\")"
   ]
  },
  {
   "cell_type": "code",
   "execution_count": null,
   "id": "01cef47e",
   "metadata": {},
   "outputs": [
    {
     "name": "stdout",
     "output_type": "stream",
     "text": [
      "Odd\n"
     ]
    }
   ],
   "source": [
    "# Input a number and print \"Odd\" if number % 2 is not 0, else \"Even\".\n",
    "\n",
    "num1=int(input(\"Enter a number\"))\n",
    "if num1>=0:\n",
    "    if num1%2==0:\n",
    "        print(\"Even\")\n",
    "    else:\n",
    "        print(\"Odd\")\n",
    "else:\n",
    "    print(\"Enter correct number\")\n"
   ]
  },
  {
   "cell_type": "code",
   "execution_count": 15,
   "id": "164a5c3d",
   "metadata": {},
   "outputs": [
    {
     "name": "stdout",
     "output_type": "stream",
     "text": [
      "Both are same\n"
     ]
    }
   ],
   "source": [
    "# Given two strings s1 and s2, print the one with more characters.\n",
    "\n",
    "s1= input(\"Enter a 1st string\")\n",
    "s2= input(\"Enter a 2nd string\")\n",
    "if len(s1) != len (s2):\n",
    "    if len(s1)> len(s2):\n",
    "        print(\"s1 is having more characters\")\n",
    "    else:\n",
    "        print(\"s2 is having more characters\")\n",
    "else:\n",
    "    print(\"Both are same\")"
   ]
  },
  {
   "cell_type": "code",
   "execution_count": 16,
   "id": "c8504990",
   "metadata": {},
   "outputs": [
    {
     "name": "stdout",
     "output_type": "stream",
     "text": [
      "Not a leap year\n"
     ]
    }
   ],
   "source": [
    "# Check if a given year is a leap year (year % 4 == 0) using a ternary statement.\n",
    "\n",
    "year = int(input(\"Enter a number\"))\n",
    "print(\"leap year\") if year%4==0 else print(\"Not a leap year\")"
   ]
  },
  {
   "cell_type": "code",
   "execution_count": 17,
   "id": "79720a45",
   "metadata": {},
   "outputs": [
    {
     "name": "stdout",
     "output_type": "stream",
     "text": [
      "odd\n"
     ]
    }
   ],
   "source": [
    "# Write a program to check if a number is positive, and then check if it is even.\n",
    "\n",
    "num2 = int(input(\"enter any number\"))\n",
    "if num2 >=0 :\n",
    "    if num2 % 2 == 0 :\n",
    "        print(\"even\")\n",
    "    else :\n",
    "        print(\"odd\")\n",
    "else:\n",
    "    print(\"please enter a positive integer\")"
   ]
  },
  {
   "cell_type": "code",
   "execution_count": 18,
   "id": "666ac799",
   "metadata": {},
   "outputs": [
    {
     "name": "stdout",
     "output_type": "stream",
     "text": [
      "It is not a letter.\n"
     ]
    }
   ],
   "source": [
    "# If it is, check whether it is uppercase or lowercase.\n",
    "char1=input(\"Enter a character\")\n",
    "if len(char1)==1 and char1.isalpha():\n",
    "    if char1.isupper():\n",
    "        print(\"It is an uppercase letter.\")\n",
    "    else:\n",
    "        print(\"It is a lowercase letter.\")\n",
    "else:\n",
    "    print(\"It is not a letter.\")"
   ]
  },
  {
   "cell_type": "code",
   "execution_count": null,
   "id": "186edf55",
   "metadata": {},
   "outputs": [],
   "source": []
  }
 ],
 "metadata": {
  "kernelspec": {
   "display_name": "Python 3",
   "language": "python",
   "name": "python3"
  },
  "language_info": {
   "codemirror_mode": {
    "name": "ipython",
    "version": 3
   },
   "file_extension": ".py",
   "mimetype": "text/x-python",
   "name": "python",
   "nbconvert_exporter": "python",
   "pygments_lexer": "ipython3",
   "version": "3.13.3"
  }
 },
 "nbformat": 4,
 "nbformat_minor": 5
}

{
 "cells": [
  {
   "cell_type": "code",
   "execution_count": 3,
   "id": "2c9ce4bf",
   "metadata": {},
   "outputs": [
    {
     "name": "stdout",
     "output_type": "stream",
     "text": [
      "10\n",
      "9\n",
      "8\n",
      "7\n",
      "6\n",
      "5\n",
      "4\n",
      "3\n",
      "2\n",
      "1\n"
     ]
    }
   ],
   "source": [
    "#Create a program that simulates a countdown timer from 10 to 1 using a while loop.\n",
    "\n",
    "i=10\n",
    "while i>=1:\n",
    "    print(i)\n",
    "    i=i-1\n",
    "\n",
    "\n"
   ]
  },
  {
   "cell_type": "code",
   "execution_count": null,
   "id": "cb58f99d",
   "metadata": {},
   "outputs": [
    {
     "name": "stdout",
     "output_type": "stream",
     "text": [
      "Incorrect password. Please try again.\n"
     ]
    }
   ],
   "source": [
    "#Write a program that keeps asking a user for a password until they enter the correct one (assume password is \"admin123\").\n",
    "\n",
    "# Define the correct password\n",
    "CORRECT_PASSWORD = \"admin123\"\n",
    "\n",
    "while True:\n",
    "    # Ask user for password\n",
    "    user_input = input(\"Enter the password: \")\n",
    "    \n",
    "    # Check if password is correct\n",
    "    if user_input == CORRECT_PASSWORD:\n",
    "        print(\"Access granted! Welcome.\")\n",
    "        break  # Exit the loop\n",
    "    else:\n",
    "        print(\"Incorrect password. Please try again.\")\n",
    "        break"
   ]
  },
  {
   "cell_type": "code",
   "execution_count": null,
   "id": "8b15e3dc",
   "metadata": {},
   "outputs": [
    {
     "name": "stdout",
     "output_type": "stream",
     "text": [
      "400\n",
      "INSUFFICIENT FUNDS\n"
     ]
    }
   ],
   "source": [
    "balance = 1000  # Starting balance\n",
    "\n",
    "while balance >= 0:\n",
    "    user_input = input(\"Enter withdraw amount: \")\n",
    "\n",
    "    # Check if the input is a valid integer\n",
    "    if not user_input.isdigit():\n",
    "        print(\"Invalid input. Please enter a valid numeric amount.\")\n",
    "        continue\n",
    "\n",
    "    withdraw_amount = int(user_input)\n",
    "\n",
    "    if withdraw_amount <= 0:\n",
    "        print(\"Enter a valid amount greater than 0.\")\n",
    "        continue\n",
    "\n",
    "    balance -= withdraw_amount\n",
    "\n",
    "    if balance >= 0:\n",
    "        print(f\"Remaining Balance: {balance}\")\n",
    "    else:\n",
    "        print(\"INSUFFICIENT FUNDS\")\n",
    "        break\n"
   ]
  },
  {
   "cell_type": "code",
   "execution_count": null,
   "id": "ec6a8e52",
   "metadata": {},
   "outputs": [],
   "source": [
    "#Write a program to simulate a fan running in different speed levels (1 to 5). Let the loop run until the user turns off the fan (by typing 'off').\n",
    "\n"
   ]
  }
 ],
 "metadata": {
  "kernelspec": {
   "display_name": "Python 3",
   "language": "python",
   "name": "python3"
  },
  "language_info": {
   "codemirror_mode": {
    "name": "ipython",
    "version": 3
   },
   "file_extension": ".py",
   "mimetype": "text/x-python",
   "name": "python",
   "nbconvert_exporter": "python",
   "pygments_lexer": "ipython3",
   "version": "3.13.3"
  }
 },
 "nbformat": 4,
 "nbformat_minor": 5
}

{
 "cells": [
  {
   "cell_type": "code",
   "execution_count": null,
   "id": "ea560f5f",
   "metadata": {},
   "outputs": [],
   "source": []
  },
  {
   "cell_type": "code",
   "execution_count": 43,
   "id": "f10c4881",
   "metadata": {},
   "outputs": [
    {
     "name": "stdout",
     "output_type": "stream",
     "text": [
      "negative\n"
     ]
    }
   ],
   "source": [
    " #Write a program to check if a number is positive, negative, or zero. \n",
    "num=int(input(\"enter a number\"))\n",
    "if num>10:\n",
    "    print(\"positive\")\n",
    "elif num<9:\n",
    "    print(\"negative\")\n",
    "else:\n",
    "    print(\"equal to zero\")"
   ]
  },
  {
   "cell_type": "code",
   "execution_count": 45,
   "id": "128821d7",
   "metadata": {},
   "outputs": [
    {
     "name": "stdout",
     "output_type": "stream",
     "text": [
      "even\n"
     ]
    }
   ],
   "source": [
    "#Check whether a given number is even or odd.\n",
    "num=int(input(\"enter a number\"))\n",
    "if num%2==0:\n",
    "    print(\"even\")\n",
    "elif num%2!=0:\n",
    "     print(\"odd\")\n",
    "else:\n",
    "     print(\"not even, not odd\")"
   ]
  },
  {
   "cell_type": "code",
   "execution_count": 5,
   "id": "6541763f",
   "metadata": {},
   "outputs": [
    {
     "name": "stdout",
     "output_type": "stream",
     "text": [
      "teenage\n"
     ]
    }
   ],
   "source": [
    "#Accept a user's age and print whether they are a child (0–12), teen (13–19), or adult (20+).\n",
    "age=int(input(\"enter age:\"))\n",
    "if 0<=age<=10:\n",
    "    print(\"child\")\n",
    "elif 13<=age<=20:\n",
    "    print(\"teenage\")\n",
    "else:\n",
    "    print(\"adult\")"
   ]
  },
  {
   "cell_type": "code",
   "execution_count": 6,
   "id": "a95f938b",
   "metadata": {},
   "outputs": [
    {
     "name": "stdout",
     "output_type": "stream",
     "text": [
      "C\n"
     ]
    }
   ],
   "source": [
    "#Ask the user to input a grade (0–100) and classify it as A (90+), B (80–89), C (70–79), D (60–69), or F (<60).\n",
    "total_marks=int(input(\"enter marks\"))\n",
    "if total_marks>=90:\n",
    "    print(\"A\")\n",
    "elif 80<=total_marks<=89:\n",
    "    print(\"B\")\n",
    "elif 70<=total_marks<=79:\n",
    "    print(\"C\")\n",
    "elif 60<=total_marks<= 69:\n",
    "    print(\"D\")\n",
    "else:\n",
    "    print(\"F\")\n"
   ]
  },
  {
   "cell_type": "code",
   "execution_count": 7,
   "id": "03ede6dc",
   "metadata": {},
   "outputs": [
    {
     "name": "stdout",
     "output_type": "stream",
     "text": [
      "It is not a leap year.\n"
     ]
    }
   ],
   "source": [
    "#Determine if a year entered by the user is a leap year.\n",
    "year=int(input(\"Enter a year: \"))\n",
    "if (year % 4 == 0 and year % 100 != 0) or (year % 400 == 0):\n",
    "    print(\"It is a leap year.\")\n",
    "else:\n",
    "    print(\"It is not a leap year.\")"
   ]
  },
  {
   "cell_type": "code",
   "execution_count": 9,
   "id": "406e9ac4",
   "metadata": {},
   "outputs": [
    {
     "name": "stdout",
     "output_type": "stream",
     "text": [
      "c is big\n"
     ]
    }
   ],
   "source": [
    "#Write a program to find the largest of three given numbers.\n",
    "a,b,c=int(input(\"enter a number\")),int(input(\"enter a number\")),int(input(\"enter a number\"))\n",
    "if a>b:\n",
    "    print(\"a is big\")\n",
    "elif b>c:\n",
    "    print(\"b is big\")\n",
    "elif c>a:\n",
    "    print(\"c is big\")\n",
    "else:\n",
    "    print(\"a,b,c are equal\")"
   ]
  },
  {
   "cell_type": "code",
   "execution_count": 10,
   "id": "68527aae",
   "metadata": {},
   "outputs": [
    {
     "name": "stdout",
     "output_type": "stream",
     "text": [
      "It is a consonant\n"
     ]
    }
   ],
   "source": [
    "#Check if the entered character is a vowel, consonant, or not a letter.\n",
    "char=input(\"Enter a character: \")\n",
    "if char in 'aeiouAEIOU':\n",
    "    print(\"It is a vowel\")\n",
    "elif char not in 'aeiouAEIOU':\n",
    "    print(\"It is a consonant\")\n",
    "else:\n",
    "    print(\"not a letter\")"
   ]
  },
  {
   "cell_type": "code",
   "execution_count": 12,
   "id": "82e063f9",
   "metadata": {},
   "outputs": [
    {
     "name": "stdout",
     "output_type": "stream",
     "text": [
      "Cold\n"
     ]
    }
   ],
   "source": [
    "#Ask for temperature in Celsius and print “Cold” if below 15, “Warm” if between 15–30, and “Hot” if above 30.\n",
    "temp=int(input(\"Enter temperature in Celsius: \"))\n",
    "if temp<15:\n",
    "    print(\"Cold\")\n",
    "elif 15<=temp<=30:\n",
    "    print(\"Warm\")\n",
    "else:\n",
    "    print(\"Hot\")\n"
   ]
  },
  {
   "cell_type": "code",
   "execution_count": 13,
   "id": "35fc835f",
   "metadata": {},
   "outputs": [
    {
     "name": "stdout",
     "output_type": "stream",
     "text": [
      "Divisible by 5\n"
     ]
    }
   ],
   "source": [
    "#Take a number and print whether it is divisible by 3, 5, or both.\n",
    "num=int(input(\"Enter a number: \"))\n",
    "if num%3==0 and num%5==0:\n",
    "    print(\"Divisible by both 3 and 5\")\n",
    "elif num%3==0:\n",
    "    print(\"Divisible by 3\")\n",
    "elif num%5==0:\n",
    "    print(\"Divisible by 5\")\n",
    "else:\n",
    "    print(\"Not divisible by 3 or 5\")"
   ]
  },
  {
   "cell_type": "code",
   "execution_count": 14,
   "id": "a907f071",
   "metadata": {},
   "outputs": [
    {
     "name": "stdout",
     "output_type": "stream",
     "text": [
      "Pass\n"
     ]
    }
   ],
   "source": [
    "#Accept a mark and print Pass if >=35, Distinction if >=75, else Fail.\n",
    "mark=int(input(\"Enter your mark: \"))\n",
    "if mark>=75:\n",
    "    print(\"Distinction\")\n",
    "elif mark>=35:\n",
    "    print(\"Pass\")\n",
    "else:\n",
    "    print(\"Fail\")"
   ]
  },
  {
   "cell_type": "code",
   "execution_count": 15,
   "id": "647a809c",
   "metadata": {},
   "outputs": [
    {
     "name": "stdout",
     "output_type": "stream",
     "text": [
      "Sunday\n"
     ]
    }
   ],
   "source": [
    "#Ask a user to enter the day number (1–7) and print the corresponding weekday, or “Invalid day” for wrong input.\n",
    "day=int(input(\"Enter day number(1–7):\"))\n",
    "if day==1:\n",
    "    print(\"Monday\")\n",
    "elif day==2:\n",
    "    print(\"Tuesday\")\n",
    "elif day==3:\n",
    "    print(\"Wednesday\")\n",
    "elif day==4:\n",
    "    print(\"Thursday\")\n",
    "elif day==5:\n",
    "    print(\"Friday\")\n",
    "elif day==6:\n",
    "    print(\"Saturday\")\n",
    "elif day==7:\n",
    "    print(\"Sunday\")\n",
    "else:\n",
    "    print(\"Invalid day\")\n"
   ]
  },
  {
   "cell_type": "code",
   "execution_count": 17,
   "id": "fe0937ec",
   "metadata": {},
   "outputs": [
    {
     "name": "stdout",
     "output_type": "stream",
     "text": [
      "Incorrect password\n"
     ]
    }
   ],
   "source": [
    "#Accept a password from the user and print messages for:\n",
    "stored_password=\"Raj@123\" \n",
    "entered_password=input(\"Enter your password: \")\n",
    "if entered_password.strip()==\"\":\n",
    "    print(\"Password cannot be empty\")\n",
    "elif entered_password==stored_password:\n",
    "    print(\"Correct password\")\n",
    "else:\n",
    "    print(\"Incorrect password\")"
   ]
  },
  {
   "cell_type": "code",
   "execution_count": 18,
   "id": "dc71a7e2",
   "metadata": {},
   "outputs": [
    {
     "name": "stdout",
     "output_type": "stream",
     "text": [
      "No discount\n"
     ]
    }
   ],
   "source": [
    "#Based on user’s purchase amount:\n",
    "amount=float(input(\"Enter purchase amount: \"))\n",
    "if amount>=5000:\n",
    "    print(\"20% discount\")\n",
    "elif amount>=3000:\n",
    "    print(\"10% discount\")\n",
    "else:\n",
    "    print(\"No discount\")\n"
   ]
  },
  {
   "cell_type": "code",
   "execution_count": 19,
   "id": "b964a6ce",
   "metadata": {},
   "outputs": [
    {
     "name": "stdout",
     "output_type": "stream",
     "text": [
      "Senior\n"
     ]
    }
   ],
   "source": [
    "#Input an employee’s experience in years and print:\n",
    "experience=float(input(\"Enter experience in years: \"))\n",
    "if experience<1:\n",
    "    print(\"Fresher\")\n",
    "elif 1<=experience<=3:\n",
    "    print(\"Junior\")\n",
    "elif 3<experience<=6:\n",
    "    print(\"Senior\")\n",
    "else:\n",
    "    print(\"Lead\")"
   ]
  },
  {
   "cell_type": "code",
   "execution_count": 20,
   "id": "82482d6f",
   "metadata": {},
   "outputs": [
    {
     "name": "stdout",
     "output_type": "stream",
     "text": [
      "Total payment: 140000\n"
     ]
    }
   ],
   "source": [
    "#Based on hours worked, calculate payment:\n",
    "hours=int(input(\"Enter hours worked: \"))\n",
    "if hours<=40:\n",
    "    payment=hours*100\n",
    "elif hours<=60:\n",
    "    payment=hours*150\n",
    "else:\n",
    "    payment=hours*200\n",
    "print(f\"Total payment: {payment}\")"
   ]
  },
  {
   "cell_type": "code",
   "execution_count": 21,
   "id": "f1bd4da1",
   "metadata": {},
   "outputs": [
    {
     "name": "stdout",
     "output_type": "stream",
     "text": [
      "Over-speeding\n"
     ]
    }
   ],
   "source": [
    "#Accept vehicle speed and print:\n",
    "speed=int(input(\"Enter vehicle speed: \"))\n",
    "if speed<=60:\n",
    "    print(\"Normal\")\n",
    "elif speed<=100:\n",
    "    print(\"Over-speeding\")\n",
    "else:\n",
    "    print(\"Dangerous driving\")\n"
   ]
  },
  {
   "cell_type": "code",
   "execution_count": 22,
   "id": "32a94944",
   "metadata": {},
   "outputs": [
    {
     "name": "stdout",
     "output_type": "stream",
     "text": [
      "Fare:20\n"
     ]
    }
   ],
   "source": [
    "#Create a fare calculator:\n",
    "age=int(input(\"Enter age: \"))\n",
    "if age<5:\n",
    "    fare=0\n",
    "elif age<=18:\n",
    "    fare=10\n",
    "elif age<=60:\n",
    "    fare=20\n",
    "else:\n",
    "    fare=15\n",
    "print(f\"Fare:{fare}\")"
   ]
  },
  {
   "cell_type": "code",
   "execution_count": 23,
   "id": "fbd52853",
   "metadata": {},
   "outputs": [
    {
     "name": "stdout",
     "output_type": "stream",
     "text": [
      "Invalid meal time.\n"
     ]
    }
   ],
   "source": [
    "#Based on meal time (input: breakfast, lunch, dinner), print a menu.\n",
    "meal=input(\"Enter meal time (breakfast/lunch/dinner): \").lower()\n",
    "if meal==\"breakfast\":\n",
    "    print(\"Menu:Idli, Dosa, Upma\")\n",
    "elif meal==\"lunch\":\n",
    "    print(\"Menu:Rice, Curry, Dal, Roti\")\n",
    "elif meal==\"dinner\":\n",
    "    print(\"Menu:Chapati, Sabzi, Curd Rice\")\n",
    "else:\n",
    "    print(\"Invalid meal time.\")\n"
   ]
  },
  {
   "cell_type": "code",
   "execution_count": 24,
   "id": "e21b3ac7",
   "metadata": {},
   "outputs": [
    {
     "name": "stdout",
     "output_type": "stream",
     "text": [
      "Withdrawal successful! Remaining balance: 0.0\n"
     ]
    }
   ],
   "source": [
    "#ATM withdrawal conditions:\n",
    "balance=float(input(\"Enter current balance: \"))\n",
    "amount=float(input(\"Enter amount to withdraw: \"))\n",
    "if amount>balance:\n",
    "    print(\"Insufficient balance\")\n",
    "elif amount<100:\n",
    "    print(\"Minimum withdrawal is 100\")\n",
    "elif amount%100!=0:\n",
    "    print(\"Amount must be in multiples of 100\")\n",
    "else:\n",
    "    balance-= amount\n",
    "    print(f\"Withdrawal successful! Remaining balance: {balance}\")\n"
   ]
  },
  {
   "cell_type": "code",
   "execution_count": 25,
   "id": "1f189a7f",
   "metadata": {},
   "outputs": [
    {
     "name": "stdout",
     "output_type": "stream",
     "text": [
      "Fine to pay: 25\n"
     ]
    }
   ],
   "source": [
    "#Library fine system:\n",
    "days_late=int(input(\"Enter number of days late: \"))\n",
    "if days_late==0:\n",
    "    fine=0\n",
    "elif days_late<=5:\n",
    "    fine=days_late*5\n",
    "elif days_late<=10:\n",
    "    fine=days_late*10\n",
    "else:\n",
    "    fine=days_late*20\n",
    "print(f\"Fine to pay: {fine}\")\n"
   ]
  },
  {
   "cell_type": "code",
   "execution_count": 30,
   "id": "6d955611",
   "metadata": {},
   "outputs": [
    {
     "name": "stdout",
     "output_type": "stream",
     "text": [
      "1\n",
      "2\n",
      "3\n",
      "4\n",
      "5\n"
     ]
    }
   ],
   "source": [
    "i=1\n",
    "while i<=5:\n",
    "    print(i)\n",
    "    i=i+1\n",
    "\n"
   ]
  },
  {
   "cell_type": "code",
   "execution_count": 32,
   "id": "5b7b7d2c",
   "metadata": {},
   "outputs": [
    {
     "name": "stdout",
     "output_type": "stream",
     "text": [
      "-1\n",
      "-2\n",
      "-3\n",
      "-4\n",
      "-5\n"
     ]
    }
   ],
   "source": [
    "i=-1\n",
    "while i>=-5:\n",
    "    print(i)\n",
    "    i=i-1\n"
   ]
  },
  {
   "cell_type": "code",
   "execution_count": 39,
   "id": "d2aa0d57",
   "metadata": {},
   "outputs": [
    {
     "name": "stdout",
     "output_type": "stream",
     "text": [
      "-1\n",
      "-2\n",
      "-3\n",
      "-4\n",
      "-5\n"
     ]
    }
   ],
   "source": [
    "i=-1\n",
    "while i>=-5:\n",
    "    print(i)\n",
    "    i=i-1"
   ]
  },
  {
   "cell_type": "code",
   "execution_count": null,
   "id": "a790f21a",
   "metadata": {},
   "outputs": [],
   "source": [
    "i=8"
   ]
  }
 ],
 "metadata": {
  "kernelspec": {
   "display_name": "Python 3",
   "language": "python",
   "name": "python3"
  },
  "language_info": {
   "codemirror_mode": {
    "name": "ipython",
    "version": 3
   },
   "file_extension": ".py",
   "mimetype": "text/x-python",
   "name": "python",
   "nbconvert_exporter": "python",
   "pygments_lexer": "ipython3",
   "version": "3.13.3"
  }
 },
 "nbformat": 4,
 "nbformat_minor": 5
}

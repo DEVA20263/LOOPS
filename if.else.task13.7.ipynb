{
 "cells": [
  {
   "cell_type": "code",
   "execution_count": 1,
   "id": "5db0553f",
   "metadata": {},
   "outputs": [
    {
     "name": "stdout",
     "output_type": "stream",
     "text": [
      "positive number\n"
     ]
    }
   ],
   "source": [
    "1#Check if a number is positive\n",
    "x=10\n",
    "if x>0:\n",
    "    print(\"positive number\")"
   ]
  },
  {
   "cell_type": "code",
   "execution_count": 2,
   "id": "afad0dab",
   "metadata": {},
   "outputs": [
    {
     "name": "stdout",
     "output_type": "stream",
     "text": [
      "eligible to vote\n"
     ]
    }
   ],
   "source": [
    "#2. Check if a person is eligible to vote (age >= 18)\n",
    "x=20\n",
    "if x>=18:\n",
    "    print(\"eligible to vote\")\n"
   ]
  },
  {
   "cell_type": "code",
   "execution_count": 6,
   "id": "758f36db",
   "metadata": {},
   "outputs": [
    {
     "name": "stdout",
     "output_type": "stream",
     "text": [
      "Contains 'a'\n"
     ]
    }
   ],
   "source": [
    "\n",
    "#3. Check if a string contains the letter 'a' (use in operator)\n",
    "s = \"apple\"\n",
    "if 'a' in s:\n",
    "    print(\"Contains 'a'\")\n"
   ]
  },
  {
   "cell_type": "code",
   "execution_count": 8,
   "id": "d6b3d77b",
   "metadata": {},
   "outputs": [
    {
     "name": "stdout",
     "output_type": "stream",
     "text": [
      "even number\n"
     ]
    }
   ],
   "source": [
    "#4. Check if a number is even\n",
    "x=4\n",
    "if x%2==0:\n",
    "    print(\"even number\")"
   ]
  },
  {
   "cell_type": "code",
   "execution_count": 9,
   "id": "fec5c18e",
   "metadata": {},
   "outputs": [
    {
     "name": "stdout",
     "output_type": "stream",
     "text": [
      "hotday\n"
     ]
    }
   ],
   "source": [
    " #5.Check if a temperature is above 30°C and print “Hot day”\n",
    "temperature=32\n",
    "if temperature>30:\n",
    "    print(\"hotday\")\n",
    "else:\n",
    "    print(\"coolday\")\n"
   ]
  },
  {
   "cell_type": "code",
   "execution_count": 12,
   "id": "b5a32018",
   "metadata": {},
   "outputs": [
    {
     "name": "stdout",
     "output_type": "stream",
     "text": [
      "not divisible by 5\n"
     ]
    }
   ],
   "source": [
    "#6. Check if a number is divisible by 5\n",
    "num=5\n",
    "if num%14==0:\n",
    "    print(\"divisible by 5\")\n",
    "else:\n",
    "    print(\"not divisible by 5\")"
   ]
  },
  {
   "cell_type": "code",
   "execution_count": 13,
   "id": "04569db9",
   "metadata": {},
   "outputs": [
    {
     "name": "stdout",
     "output_type": "stream",
     "text": [
      "vowel\n"
     ]
    }
   ],
   "source": [
    "#7. Check if a character is a vowel\n",
    "char='a'\n",
    "if char.lower() in ['a','b','c','d']:\n",
    "    print(\"vowel\")"
   ]
  },
  {
   "cell_type": "code",
   "execution_count": 15,
   "id": "0fc24cc1",
   "metadata": {},
   "outputs": [
    {
     "name": "stdout",
     "output_type": "stream",
     "text": [
      "User is logged in\n"
     ]
    }
   ],
   "source": [
    "#8. Check if a user is logged in (using boolean flag is_logged_in)\n",
    "is_logged_in = True\n",
    "if is_logged_in:\n",
    "    print(\"User is logged in\")\n"
   ]
  },
  {
   "cell_type": "code",
   "execution_count": 16,
   "id": "f0a79941",
   "metadata": {},
   "outputs": [
    {
     "name": "stdout",
     "output_type": "stream",
     "text": [
      "Valid password length\n"
     ]
    }
   ],
   "source": [
    "#9. Check if a password is at least 8 characters long\n",
    "password = \"secure123\"\n",
    "if len(password) >= 8:\n",
    "    print(\"Valid password length\")"
   ]
  },
  {
   "cell_type": "code",
   "execution_count": 25,
   "id": "22899f6f",
   "metadata": {},
   "outputs": [
    {
     "name": "stdout",
     "output_type": "stream",
     "text": [
      "Fail\n"
     ]
    }
   ],
   "source": [
    "#10. Check if a student scored more than 35 to pass\n",
    "student=35\n",
    "if student>35:\n",
    "    print(\"pass\")\n",
    "else:\n",
    "    print(\"Fail\")"
   ]
  },
  {
   "cell_type": "code",
   "execution_count": 26,
   "id": "7ed860d1",
   "metadata": {},
   "outputs": [
    {
     "name": "stdout",
     "output_type": "stream",
     "text": [
      "True\n"
     ]
    }
   ],
   "source": [
    "#11. Check if two numbers are equal\n",
    "x=int(input())\n",
    "y=int(input())\n",
    "if x==y:\n",
    "    print(\"True\")\n",
    "else:\n",
    "    print(\"False\")"
   ]
  },
  {
   "cell_type": "code",
   "execution_count": 28,
   "id": "a8ab0174",
   "metadata": {},
   "outputs": [
    {
     "name": "stdout",
     "output_type": "stream",
     "text": [
      "employee not worked overtime \n"
     ]
    }
   ],
   "source": [
    "#12. Check if an employee worked overtime (hours > 40)\n",
    "hours=35\n",
    "if hours>40:\n",
    "    print(\"employee worked overtime \")\n",
    "else:\n",
    "    print(\"employee not worked overtime \")"
   ]
  },
  {
   "cell_type": "code",
   "execution_count": null,
   "id": "7038236d",
   "metadata": {},
   "outputs": [
    {
     "name": "stdout",
     "output_type": "stream",
     "text": [
      "can drive\n"
     ]
    },
    {
     "data": {
      "text/plain": [
       "''"
      ]
     },
     "execution_count": 29,
     "metadata": {},
     "output_type": "execute_result"
    }
   ],
   "source": [
    "#13. Check if a person can drive (age ≥ 18 and has license)\n",
    "age=20\n",
    "if age >=18 :\n",
    "    print(\"can drive\")\n",
    "else:\n",
    "    print(\"con'n drive\")"
   ]
  },
  {
   "cell_type": "code",
   "execution_count": 31,
   "id": "095371d9",
   "metadata": {},
   "outputs": [
    {
     "name": "stdout",
     "output_type": "stream",
     "text": [
      "leap year\n"
     ]
    }
   ],
   "source": [
    "#14. Check if a given year is a leap year\n",
    "year=2024\n",
    "year%400==0\n",
    "print(\"leap year\")\n"
   ]
  },
  {
   "cell_type": "code",
   "execution_count": 33,
   "id": "c4e2da85",
   "metadata": {},
   "outputs": [
    {
     "name": "stdout",
     "output_type": "stream",
     "text": [
      "out of the stock\n"
     ]
    }
   ],
   "source": [
    "#15. Check if a product is in stock (stock > 0)\n",
    "stock=10\n",
    "if stock>20:\n",
    "    print(\"in stock\")\n",
    "else:\n",
    "    print(\"out of the stock\")\n"
   ]
  },
  {
   "cell_type": "code",
   "execution_count": 34,
   "id": "21cda80c",
   "metadata": {},
   "outputs": [
    {
     "name": "stdout",
     "output_type": "stream",
     "text": [
      "True\n"
     ]
    }
   ],
   "source": [
    "#16. Check if the entered PIN matches the stored PIN\n",
    "enteredpiN=2000\n",
    "storedpiN=2000\n",
    "if enteredpiN==storedpiN:\n",
    "    print(\"True\")\n",
    "else:\n",
    "    print(\"False\")"
   ]
  },
  {
   "cell_type": "code",
   "execution_count": 38,
   "id": "de3782a5",
   "metadata": {},
   "outputs": [
    {
     "name": "stdout",
     "output_type": "stream",
     "text": [
      "valied mobile number\n"
     ]
    }
   ],
   "source": [
    "#17. Check if a mobile number is 10 digits\n",
    "mobile='1234567890'\n",
    "if len(mobile)==10 and mobile.isdigit():\n",
    "    print(\"valied mobile number\")\n",
    "else:\n",
    "    print(\"invalid mobile number\")\n"
   ]
  },
  {
   "cell_type": "code",
   "execution_count": 39,
   "id": "0faa9934",
   "metadata": {},
   "outputs": [
    {
     "name": "stdout",
     "output_type": "stream",
     "text": [
      "username is not empty\n"
     ]
    }
   ],
   "source": [
    "#18. Check if a user's entered username is not empty\n",
    "username=\"dev123\"\n",
    "if username:\n",
    "    print(\"username is not empty\")\n",
    "else:\n",
    "    print(\"username is  empty\")\n"
   ]
  },
  {
   "cell_type": "code",
   "execution_count": 41,
   "id": "0e7a6997",
   "metadata": {},
   "outputs": [
    {
     "name": "stdout",
     "output_type": "stream",
     "text": [
      "a person qualifies for a senior citizen discount\n"
     ]
    }
   ],
   "source": [
    "#19. Check if a person qualifies for a senior citizen discount (age ≥ 60)\n",
    "age=65\n",
    "if age >=60:\n",
    "    print(\"a person qualifies for a senior citizen discount\")\n",
    "else:\n",
    "    print(\"a person is not qualifies for a senior citizen discount\")"
   ]
  },
  {
   "cell_type": "code",
   "execution_count": 43,
   "id": "388056b4",
   "metadata": {},
   "outputs": [
    {
     "name": "stdout",
     "output_type": "stream",
     "text": [
      "give a bonus\n"
     ]
    }
   ],
   "source": [
    "#20. Check if sales > 1,00,000, then give a bonus\n",
    "salary=120000\n",
    "if salary>100000:\n",
    "    print(\"give a bonus\")\n",
    "else:\n",
    "    print(\"don't give a bonus\")"
   ]
  },
  {
   "cell_type": "code",
   "execution_count": 48,
   "id": "6652fe61",
   "metadata": {},
   "outputs": [
    {
     "name": "stdout",
     "output_type": "stream",
     "text": [
      "freezing point \n"
     ]
    }
   ],
   "source": [
    "#21. Check if temperature is below 0, print “Freezing Point”\n",
    "temperature=-3\n",
    "if temperature<0:\n",
    "    print(\"freezing point \")\n",
    "else:\n",
    "    print(\"hot point\")"
   ]
  },
  {
   "cell_type": "code",
   "execution_count": 49,
   "id": "bba53826",
   "metadata": {},
   "outputs": [
    {
     "name": "stdout",
     "output_type": "stream",
     "text": [
      "payment done\n"
     ]
    }
   ],
   "source": [
    "#22. Check if a payment is done (payment_status == \"Success\")\n",
    "payment_status=\"sucess\"\n",
    "if payment_status==\"sucess\":\n",
    "    print(\"payment done\")\n",
    "else:\n",
    "    print(\"payment Failed\")\n"
   ]
  },
  {
   "cell_type": "code",
   "execution_count": 53,
   "id": "43c701fb",
   "metadata": {},
   "outputs": [
    {
     "name": "stdout",
     "output_type": "stream",
     "text": [
      "False\n"
     ]
    }
   ],
   "source": [
    "#23. Check if a number lies between 10 and 50\n",
    "num=50\n",
    "if 10< num and 50< num:\n",
    "    print(\"True\")\n",
    "else:\n",
    "    print(\"False\")"
   ]
  },
  {
   "cell_type": "code",
   "execution_count": 54,
   "id": "0ca50ed6",
   "metadata": {},
   "outputs": [
    {
     "name": "stdout",
     "output_type": "stream",
     "text": [
      "a student got distinction\n"
     ]
    }
   ],
   "source": [
    "#24. Check if a student got distinction (marks ≥ 75)\n",
    "marks=80\n",
    "if marks>=75:\n",
    "    print(\"a student got distinction\")\n",
    "else:\n",
    "    print(\"a student just pass\")"
   ]
  },
  {
   "cell_type": "code",
   "execution_count": 1,
   "id": "572b56a3",
   "metadata": {},
   "outputs": [
    {
     "name": "stdout",
     "output_type": "stream",
     "text": [
      "Weird\n"
     ]
    }
   ],
   "source": [
    "n = int(input())\n",
    "if n % 2 != 0:\n",
    "    print(\"Weird\")"
   ]
  },
  {
   "cell_type": "code",
   "execution_count": null,
   "id": "85c840eb",
   "metadata": {},
   "outputs": [],
   "source": []
  }
 ],
 "metadata": {
  "kernelspec": {
   "display_name": "Python 3",
   "language": "python",
   "name": "python3"
  },
  "language_info": {
   "codemirror_mode": {
    "name": "ipython",
    "version": 3
   },
   "file_extension": ".py",
   "mimetype": "text/x-python",
   "name": "python",
   "nbconvert_exporter": "python",
   "pygments_lexer": "ipython3",
   "version": "3.13.3"
  }
 },
 "nbformat": 4,
 "nbformat_minor": 5
}

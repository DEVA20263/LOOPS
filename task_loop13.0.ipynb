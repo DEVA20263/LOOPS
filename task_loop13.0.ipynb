{
 "cells": [
  {
   "cell_type": "code",
   "execution_count": 16,
   "id": "54fb6e66",
   "metadata": {},
   "outputs": [
    {
     "name": "stdout",
     "output_type": "stream",
     "text": [
      "hello\n",
      "hello\n",
      "hello\n",
      "hello\n",
      "hello\n"
     ]
    }
   ],
   "source": [
    "i=1\n",
    "while i<=5:\n",
    "    print(\"hello\")\n",
    "    i=i+1\n"
   ]
  },
  {
   "cell_type": "code",
   "execution_count": 3,
   "id": "c534ad45",
   "metadata": {},
   "outputs": [
    {
     "name": "stdout",
     "output_type": "stream",
     "text": [
      "-1\n",
      "-2\n",
      "-3\n",
      "-4\n",
      "-5\n"
     ]
    }
   ],
   "source": [
    "i=-1\n",
    "while i>=-5:\n",
    "    print(i)\n",
    "    i=i-1\n"
   ]
  },
  {
   "cell_type": "code",
   "execution_count": 5,
   "id": "eda40546",
   "metadata": {},
   "outputs": [
    {
     "name": "stdout",
     "output_type": "stream",
     "text": [
      "8\n",
      "7\n",
      "6\n",
      "5\n",
      "4\n",
      "3\n",
      "2\n",
      "1\n",
      "0\n"
     ]
    }
   ],
   "source": [
    "i=8\n",
    "while i>=0:\n",
    "    print(i)\n",
    "    i=i-1"
   ]
  },
  {
   "cell_type": "code",
   "execution_count": 10,
   "id": "1042680d",
   "metadata": {},
   "outputs": [
    {
     "name": "stdout",
     "output_type": "stream",
     "text": [
      "-5\n",
      "-4\n",
      "-3\n",
      "-2\n",
      "-1\n"
     ]
    }
   ],
   "source": [
    "i=-5\n",
    "while i<=-1:\n",
    "    print(i)\n",
    "    i=i+1"
   ]
  },
  {
   "cell_type": "code",
   "execution_count": 15,
   "id": "f663eeb4",
   "metadata": {},
   "outputs": [
    {
     "name": "stdout",
     "output_type": "stream",
     "text": [
      "5\n",
      "4\n",
      "3\n",
      "2\n",
      "1\n"
     ]
    }
   ],
   "source": [
    "i=5\n",
    "while i>=1:\n",
    "    print(i)\n",
    "    i=i-1"
   ]
  },
  {
   "cell_type": "code",
   "execution_count": 1,
   "id": "e7c3438d",
   "metadata": {},
   "outputs": [
    {
     "name": "stdout",
     "output_type": "stream",
     "text": [
      "DEVA\n",
      "DEVA\n",
      "DEVA\n",
      "DEVA\n",
      "DEVA\n",
      "DEVA\n",
      "DEVA\n",
      "DEVA\n",
      "DEVA\n",
      "DEVA\n"
     ]
    }
   ],
   "source": [
    "i=10\n",
    "while i>=1:\n",
    "    print(\"DEVA\")\n",
    "    i=i-1"
   ]
  },
  {
   "cell_type": "code",
   "execution_count": 10,
   "id": "96b5989a",
   "metadata": {},
   "outputs": [
    {
     "name": "stdout",
     "output_type": "stream",
     "text": [
      "sum is 15\n"
     ]
    }
   ],
   "source": [
    "i=1\n",
    "sm=0\n",
    "while i<=5:\n",
    "    sm=sm+i\n",
    "    i=i+1\n",
    "print(\"sum is\",sm)"
   ]
  },
  {
   "cell_type": "code",
   "execution_count": 13,
   "id": "459d55be",
   "metadata": {},
   "outputs": [
    {
     "name": "stdout",
     "output_type": "stream",
     "text": [
      "sum is 120\n"
     ]
    }
   ],
   "source": [
    "i=1\n",
    "sm=1\n",
    "while i<=5:\n",
    "    sm=sm*i\n",
    "    i=i+1\n",
    "print(\"sum is\",sm)"
   ]
  },
  {
   "cell_type": "code",
   "execution_count": 16,
   "id": "e9d7fd4c",
   "metadata": {},
   "outputs": [
    {
     "name": "stdout",
     "output_type": "stream",
     "text": [
      "factorial is 120\n"
     ]
    }
   ],
   "source": [
    "i=1\n",
    "fct=1\n",
    "while i<=5:\n",
    "    fct=fct*i\n",
    "    i=i+1\n",
    "print(\"factorial is\",fct)"
   ]
  },
  {
   "cell_type": "markdown",
   "id": "3ef3f542",
   "metadata": {},
   "source": []
  },
  {
   "cell_type": "code",
   "execution_count": 25,
   "id": "af332665",
   "metadata": {},
   "outputs": [
    {
     "name": "stdout",
     "output_type": "stream",
     "text": [
      "1\n",
      "2\n",
      "3\n",
      "4\n",
      "6\n",
      "12\n"
     ]
    }
   ],
   "source": [
    "n=12\n",
    "i=1\n",
    "while i<=12:\n",
    "    if n%i==0:\n",
    "       print(i)\n",
    "    i=i+1"
   ]
  },
  {
   "cell_type": "code",
   "execution_count": 28,
   "id": "0dbd5860",
   "metadata": {},
   "outputs": [
    {
     "name": "stdout",
     "output_type": "stream",
     "text": [
      "sum of facter\n",
      "1\n",
      "3\n",
      "6\n",
      "6\n",
      "6\n",
      "12\n",
      "12\n",
      "12\n",
      "12\n",
      "12\n",
      "12\n",
      "12\n"
     ]
    }
   ],
   "source": [
    "n= int(input())\n",
    "i=1\n",
    "sm=0\n",
    "print(\"sum of facter\")\n",
    "while i<=12:\n",
    "    if n%i==0:\n",
    "       sm=sm+i\n",
    "    i=i+1\n",
    "    print(sm)"
   ]
  },
  {
   "cell_type": "code",
   "execution_count": 32,
   "id": "b90353bc",
   "metadata": {},
   "outputs": [
    {
     "name": "stdout",
     "output_type": "stream",
     "text": [
      "8\n",
      "9\n",
      "6\n",
      "7\n",
      "2\n"
     ]
    }
   ],
   "source": [
    "lst=[8,9,6,7,2]\n",
    "for i in lst:\n",
    " print(i)"
   ]
  },
  {
   "cell_type": "code",
   "execution_count": 33,
   "id": "4cbb2f06",
   "metadata": {},
   "outputs": [
    {
     "name": "stdout",
     "output_type": "stream",
     "text": [
      "8\n",
      "9\n",
      "6\n",
      "7\n",
      "2\n"
     ]
    }
   ],
   "source": [
    "lst=[8,9,6,7,2]\n",
    "sm==0\n",
    "sm=sm+i\n",
    "for i in lst:\n",
    " print(i)"
   ]
  },
  {
   "cell_type": "code",
   "execution_count": null,
   "id": "2277737d",
   "metadata": {},
   "outputs": [],
   "source": [
    "lst=[8,9,6,7,2]\n",
    "sm==0\n",
    "sm=sm+i\n",
    "for i in lst:\n",
    " print(i)"
   ]
  }
 ],
 "metadata": {
  "kernelspec": {
   "display_name": "Python 3",
   "language": "python",
   "name": "python3"
  },
  "language_info": {
   "codemirror_mode": {
    "name": "ipython",
    "version": 3
   },
   "file_extension": ".py",
   "mimetype": "text/x-python",
   "name": "python",
   "nbconvert_exporter": "python",
   "pygments_lexer": "ipython3",
   "version": "3.13.3"
  }
 },
 "nbformat": 4,
 "nbformat_minor": 5
}
